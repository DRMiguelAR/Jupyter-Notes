{
 "cells": [
  {
   "cell_type": "markdown",
   "metadata": {},
   "source": [
    "# Bubble Sort"
   ]
  },
  {
   "cell_type": "markdown",
   "metadata": {},
   "source": [
    "Uno de los más básicos algoritmos de ordenamiento. Es muy fácil de implementar. Desafortunadamente, es difícil de usar en la práctica.\n"
   ]
  },
  {
   "cell_type": "markdown",
   "metadata": {
    "collapsed": true
   },
   "source": [
    "Primero obtenemos nuestros valores como una lista de enteros.\n",
    "\n",
    "Hay varias formas de lograrlo.\n",
    "\n",
    "+ La primera es introducir el arreglo directamente."
   ]
  },
  {
   "cell_type": "code",
   "execution_count": null,
   "metadata": {
    "collapsed": true
   },
   "outputs": [],
   "source": [
    "X = [802, 151, 845, 370, 179, 285, 958, 447, 354, 363, 101, 48, 456, 897, 759, 966, 20, 651, 194, 31, 70, 551, 198, 836, 802, 838, 468, 288, 89, 525, 12, 23, 866, 694, 788, 840, 998, 476, 796, 133, 621, 942, 564, 818, 380, 472, 355,\n",
    " 838, 456, 204, 854, 643, 386, 32, 854, 898, 202, 313, 377, 347, 498, 887, 815, 542, 330, 341, 808, 45, 967, 21, 871, 499, 970, 208, 25, 760, 553, 41, 73, 956, 475, 701, 783, 825, 555, 620, 153, 199, 422, 324, 290, 423, 221, 516\n",
    ", 174, 30, 343, 899, 408, 362]\n"
   ]
  },
  {
   "cell_type": "markdown",
   "metadata": {},
   "source": [
    "+ Si se quisiera definir un arreglo aleatorio, se podría crear con:"
   ]
  },
  {
   "cell_type": "code",
   "execution_count": 3,
   "metadata": {
    "collapsed": true
   },
   "outputs": [],
   "source": [
    "from random import randint\n",
    "X=[randint(1,1000) for x in range(100)]"
   ]
  },
  {
   "cell_type": "markdown",
   "metadata": {},
   "source": [
    "+ O si se quisiera recibir del usuario, entonces lo podemos recibir como una serie de números"
   ]
  },
  {
   "cell_type": "code",
   "execution_count": null,
   "metadata": {
    "collapsed": true
   },
   "outputs": [],
   "source": [
    "X=[int(x) for x in input().split()]"
   ]
  },
  {
   "cell_type": "markdown",
   "metadata": {},
   "source": [
    "n contendrá el tamaño del arreglo.\n",
    "Al ser un ciclo anidado dentro de otro ciclo"
   ]
  },
  {
   "cell_type": "code",
   "execution_count": 6,
   "metadata": {},
   "outputs": [],
   "source": [
    "def bubbleSort(X):\n",
    "    n=len(X)\n",
    "    for i in range(n):\n",
    "        for j in range(n-1):\n",
    "            if X[j]>X[j+1]:\n",
    "                temp=X[j]\n",
    "                X[j]=X[j+1]\n",
    "                X[j+1]=temp"
   ]
  },
  {
   "cell_type": "markdown",
   "metadata": {},
   "source": [
    "Al final, se obtendrá la lista ordenada"
   ]
  },
  {
   "cell_type": "code",
   "execution_count": 8,
   "metadata": {},
   "outputs": [
    {
     "name": "stdout",
     "output_type": "stream",
     "text": [
      "[6, 9, 11, 14, 14, 25, 30, 32, 43, 61, 64, 74, 87, 117, 123, 132, 140, 145, 162, 168, 174, 186, 198, 207, 208, 211, 214, 219, 236, 262, 274, 279, 279, 284, 287, 299, 310, 314, 319, 324, 332, 347, 356, 370, 388, 397, 402, 419, 438, 451, 464, 475, 475, 507, 508, 510, 552, 567, 568, 574, 586, 595, 599, 601, 616, 619, 636, 641, 647, 652, 678, 750, 751, 760, 761, 784, 791, 792, 798, 801, 802, 807, 816, 820, 828, 832, 838, 841, 866, 885, 887, 895, 919, 927, 944, 956, 962, 972, 981, 991]\n"
     ]
    }
   ],
   "source": [
    "bubbleSort(X)\n",
    "print(X)"
   ]
  },
  {
   "cell_type": "code",
   "execution_count": null,
   "metadata": {
    "collapsed": true
   },
   "outputs": [],
   "source": []
  }
 ],
 "metadata": {
  "kernelspec": {
   "display_name": "Python 3",
   "language": "python",
   "name": "python3"
  },
  "language_info": {
   "codemirror_mode": {
    "name": "ipython",
    "version": 3
   },
   "file_extension": ".py",
   "mimetype": "text/x-python",
   "name": "python",
   "nbconvert_exporter": "python",
   "pygments_lexer": "ipython3",
   "version": "3.6.0"
  }
 },
 "nbformat": 4,
 "nbformat_minor": 2
}
